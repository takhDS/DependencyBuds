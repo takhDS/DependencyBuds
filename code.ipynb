{
 "cells": [
  {
   "cell_type": "code",
   "execution_count": 24,
   "metadata": {},
   "outputs": [],
   "source": [
    "import networkx as nx\n",
    "import numpy as np\n",
    "import pandas as pd"
   ]
  },
  {
   "cell_type": "code",
   "execution_count": 25,
   "metadata": {},
   "outputs": [],
   "source": [
    "edges = pd.read_csv(\"edges.csv\") #load the edges\n",
    "edges = edges[[\"# source\",\" target\"]] #remove additional columns\n",
    "edges_array = np.array(edges) #convert it to np.array"
   ]
  },
  {
   "cell_type": "code",
   "execution_count": null,
   "metadata": {},
   "outputs": [],
   "source": [
    "G = nx.DiGraph() #empty DiGraph\n",
    "G.add_edges_from(edges_array) \n",
    "\n",
    "Node_map = pd.read_csv(\"nodes.csv\",index_col=False) #creating a dict with node index to names\n",
    "Node_map = Node_map[[\"# index\",\" name\"]]\n",
    "Node_map = dict(Node_map)\n",
    "Node_mapper = Node_map[\" name\"]\n"
   ]
  },
  {
   "cell_type": "code",
   "execution_count": null,
   "metadata": {},
   "outputs": [],
   "source": []
  }
 ],
 "metadata": {
  "kernelspec": {
   "display_name": "base",
   "language": "python",
   "name": "python3"
  },
  "language_info": {
   "codemirror_mode": {
    "name": "ipython",
    "version": 3
   },
   "file_extension": ".py",
   "mimetype": "text/x-python",
   "name": "python",
   "nbconvert_exporter": "python",
   "pygments_lexer": "ipython3",
   "version": "3.12.7"
  }
 },
 "nbformat": 4,
 "nbformat_minor": 2
}
